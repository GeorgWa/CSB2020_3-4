{
 "cells": [
  {
   "cell_type": "code",
   "execution_count": 1,
   "metadata": {},
   "outputs": [],
   "source": [
    "import pandas as pd\n",
    "import os\n",
    "import matplotlib.pyplot as plt\n",
    "from matplotlib_venn import venn3 \n",
    "from shutil import copyfile\n",
    "\n",
    "sgd = pd.read_csv(\"SGD_features.tab\",header=None,sep='\\t')\n",
    "\n",
    "def toSGD(standard):\n",
    "    row = sgd[(sgd[3] == standard)]\n",
    "    if (len(row)>0):\n",
    "        return row[0].tolist()[0]\n",
    "    else:\n",
    "        return \"\""
   ]
  },
  {
   "cell_type": "code",
   "execution_count": 2,
   "metadata": {},
   "outputs": [
    {
     "name": "stdout",
     "output_type": "stream",
     "text": [
      "865 positive regulatory associations with HSF1\n",
      "544 positive regulated factors HSF1\n",
      "4 negative regulatory associations with HSF1\n",
      "4 negative regulated factors HSF1\n"
     ]
    }
   ],
   "source": [
    "TF = \"HSF1\"\n",
    "\n",
    "ys = pd.read_csv(\"yeastract2019-flat-file.tsv\",header=None,sep='\\t')\n",
    "ys.columns = [\"TF\", \"TFS\", \"Target\", \"TargetS\",\"ID\",\"Date\",\"Conditions\",\"Type\",\"Evidence\",\"Experiment\"]\n",
    "filtered = ys[(ys.TFS == TF)]\n",
    "filtered = filtered[(filtered.Conditions == \"Stress\")]\n",
    "positive = filtered[(filtered.Type == \"Positive\")]\n",
    "negative = filtered[(filtered.Type == \"Negative\")]\n",
    "\n",
    "\n",
    "print(\"{} positive regulatory associations with \".format(len(positive)) + TF)\n",
    "\n",
    "positive = positive.groupby([\"Target\"]).count()\n",
    "print(\"{} positive regulated factors \".format(len(positive)) + TF)\n",
    "positive = positive.TF\n",
    "\n",
    "pos_hsf1 =[]\n",
    "for index, row in positive.iteritems():\n",
    "    pos_hsf1.append(index)\n",
    "    #print(index)\n",
    "\n",
    "print(\"{} negative regulatory associations with \".format(len(negative)) + TF)\n",
    "negative = negative.groupby([\"Target\"]).count()\n",
    "print(\"{} negative regulated factors \".format(len(negative)) + TF)\n",
    "negative = negative.TF\n",
    "\n",
    "for index, row in negative.iteritems():\n",
    "    \n",
    "    pass#print(toSGD(index))"
   ]
  },
  {
   "cell_type": "code",
   "execution_count": 3,
   "metadata": {},
   "outputs": [
    {
     "name": "stdout",
     "output_type": "stream",
     "text": [
      "1527 positive regulatory associations with MSN2\n",
      "854 positive regulated factors MSN2\n",
      "475 negative regulatory associations with MSN2\n",
      "382 negative regulated factors MSN2\n"
     ]
    }
   ],
   "source": [
    "TF = \"MSN2\"\n",
    "\n",
    "ys = pd.read_csv(\"yeastract2019-flat-file.tsv\",header=None,sep='\\t')\n",
    "ys.columns = [\"TF\", \"TFS\", \"Target\", \"TargetS\",\"ID\",\"Date\",\"Conditions\",\"Type\",\"Evidence\",\"Experiment\"]\n",
    "filtered = ys[(ys.TFS == TF)]\n",
    "filtered = filtered[(filtered.Conditions == \"Stress\")]\n",
    "positive = filtered[(filtered.Type == \"Positive\")]\n",
    "negative = filtered[(filtered.Type == \"Negative\")]\n",
    "\n",
    "\n",
    "print(\"{} positive regulatory associations with \".format(len(positive)) + TF)\n",
    "\n",
    "positive = positive.groupby([\"Target\"]).count()\n",
    "print(\"{} positive regulated factors \".format(len(positive)) + TF)\n",
    "positive = positive.TF\n",
    "\n",
    "pos_msn2 = []\n",
    "for index, row in positive.iteritems():\n",
    "    pos_msn2.append(index)\n",
    "    pass#print(toSGD(index))\n",
    "\n",
    "print(\"{} negative regulatory associations with \".format(len(negative)) + TF)\n",
    "negative = negative.groupby([\"Target\"]).count()\n",
    "print(\"{} negative regulated factors \".format(len(negative)) + TF)\n",
    "negative = negative.TF\n",
    "\n",
    "for index, row in negative.iteritems():\n",
    "    \n",
    "    pass#print(toSGD(index))\n"
   ]
  },
  {
   "cell_type": "code",
   "execution_count": 4,
   "metadata": {},
   "outputs": [
    {
     "name": "stdout",
     "output_type": "stream",
     "text": [
      "1164 positive regulatory associations with MSN4\n",
      "702 positive regulated factors MSN4\n",
      "236 negative regulatory associations with MSN4\n",
      "231 negative regulated factors MSN4\n"
     ]
    }
   ],
   "source": [
    "TF = \"MSN4\"\n",
    "\n",
    "ys = pd.read_csv(\"yeastract2019-flat-file.tsv\",header=None,sep='\\t')\n",
    "ys.columns = [\"TF\", \"TFS\", \"Target\", \"TargetS\",\"ID\",\"Date\",\"Conditions\",\"Type\",\"Evidence\",\"Experiment\"]\n",
    "filtered = ys[(ys.TFS == TF)]\n",
    "filtered = filtered[(filtered.Conditions == \"Stress\")]\n",
    "positive = filtered[(filtered.Type == \"Positive\")]\n",
    "negative = filtered[(filtered.Type == \"Negative\")]\n",
    "\n",
    "\n",
    "print(\"{} positive regulatory associations with \".format(len(positive)) + TF)\n",
    "\n",
    "positive = positive.groupby([\"Target\"]).count()\n",
    "print(\"{} positive regulated factors \".format(len(positive)) + TF)\n",
    "positive = positive.TF\n",
    "\n",
    "pos_msn4 =[]\n",
    "for index, row in positive.iteritems():\n",
    "    pos_msn4.append(index)\n",
    "    pass#print(toSGD(index))\n",
    "\n",
    "print(\"{} negative regulatory associations with \".format(len(negative)) + TF)\n",
    "negative = negative.groupby([\"Target\"]).count()\n",
    "print(\"{} negative regulated factors \".format(len(negative)) + TF)\n",
    "negative = negative.TF\n",
    "\n",
    "for index, row in negative.iteritems():\n",
    "    \n",
    "    pass#print(toSGD(index))\n"
   ]
  },
  {
   "cell_type": "code",
   "execution_count": 5,
   "metadata": {},
   "outputs": [
    {
     "data": {
      "image/png": "[encoded data removed]",
      "text/plain": [
       "<Figure size 360x360 with 1 Axes>"
      ]
     },
     "metadata": {},
     "output_type": "display_data"
    }
   ],
   "source": [
    "all = len(list(set(pos_hsf1) & set(pos_msn2) & set(pos_msn4)))\n",
    "\n",
    "msn2_msn4 = len(list(set(pos_msn2) & set(pos_msn4))) - all \n",
    "hsf1_msn4 = len(list(set(pos_hsf1) & set(pos_msn4))) - all \n",
    "hsf1_msn2 = len(list(set(pos_hsf1) & set(pos_msn2))) - all \n",
    "\n",
    "hsf1 = len(pos_hsf1) - all - hsf1_msn4 - hsf1_msn2\n",
    "msn2 = len(pos_msn2) - all - msn2_msn4 - hsf1_msn2\n",
    "msn4 = len(pos_msn4) - all - msn2_msn4 - hsf1_msn4\n",
    "\n",
    "\n",
    "\n",
    "# Make the diagram\n",
    "v = venn3(subsets = (msn2, msn4, msn2_msn4, hsf1,hsf1_msn2, hsf1_msn4,all), set_labels = ('MSN2 targets', 'MSN4 targets', 'HSF1 targets'))\n",
    "fig = plt.gcf()\n",
    "fig.set_size_inches(5, 5)\n",
    "\n",
    "plt.title(\"upregulated targets under stress conditions\")\n",
    "\n",
    "plt.tight_layout()\n",
    "plt.show()\n",
    "fig.savefig('generated_pos_targets_stress.png', dpi=100)"
   ]
  },
  {
   "cell_type": "code",
   "execution_count": 6,
   "metadata": {},
   "outputs": [
    {
     "name": "stdout",
     "output_type": "stream",
     "text": [
      "MSN2/4_exclusive_positive_stress_associations: 508\n",
      "MSN2_exclusive_positive_stress_associations: 144\n",
      "198\n",
      "338\n"
     ]
    }
   ],
   "source": [
    "msn24_ex = list(set(pos_msn2)-set(pos_hsf1))\n",
    "msn2_ex = list(set(msn24_ex) - set(pos_msn4))\n",
    "hsf_ex = list(set(pos_hsf1) - set(pos_msn2))\n",
    "core = list(set(pos_hsf1) & set(pos_msn2) & set(pos_msn4))\n",
    "\n",
    "print(\"MSN2/4_exclusive_positive_stress_associations:\",len(msn24_ex))\n",
    "print(\"MSN2_exclusive_positive_stress_associations:\",len(msn2_ex))\n",
    "print(\"HSF1_exclusive_positive_stress_associations:\",len(hsf_ex))\n",
    "print(\"core_stress_associations:\",len(core))\n",
    "\n",
    "copyfile('./generated_yeastract.gmt', './generated_yeastract+.gmt')\n",
    "with open('./generated_yeastract+.gmt', 'a') as f:\n",
    "    gmt_name = \"MSN2/4_exclusive_positive_stress_associations\"\n",
    "    gmt_id = \"MSN2/4_exup\"\n",
    "    string = gmt_id + \"\\t\" + gmt_name + \"\\t\" + \"\\t\".join(msn24_ex) + os.linesep\n",
    "    f.write(string)\n",
    "    \n",
    "    gmt_name = \"MSN2_exclusive_positive_stress_associations\"\n",
    "    gmt_id = \"MSN2_exup\"\n",
    "    string = gmt_id + \"\\t\" + gmt_name + \"\\t\" + \"\\t\".join(msn2_ex) + os.linesep\n",
    "    f.write(string)\n",
    "    \n",
    "    gmt_name = \"HSF1_exclusive_positive_stress_associations\"\n",
    "    gmt_id = \"HSF1_exup\"\n",
    "    string = gmt_id + \"\\t\" + gmt_name + \"\\t\" + \"\\t\".join(hsf_ex) + os.linesep\n",
    "    f.write(string)\n",
    "    \n",
    "    gmt_name = \"core_stress_associations\"\n",
    "    gmt_id = \"core_exup\"\n",
    "    string = gmt_id + \"\\t\" + gmt_name + \"\\t\" + \"\\t\".join(core) + os.linesep\n",
    "    f.write(string)\n",
    "            "
   ]
  }
 ],
 "metadata": {
  "kernelspec": {
   "display_name": "Python 3",
   "language": "python",
   "name": "python3"
  },
  "language_info": {
   "codemirror_mode": {
    "name": "ipython",
    "version": 3
   },
   "file_extension": ".py",
   "mimetype": "text/x-python",
   "name": "python",
   "nbconvert_exporter": "python",
   "pygments_lexer": "ipython3",
   "version": "3.7.6"
  }
 },
 "nbformat": 4,
 "nbformat_minor": 4
}
